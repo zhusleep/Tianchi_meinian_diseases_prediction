{
 "cells": [
  {
   "cell_type": "markdown",
   "metadata": {},
   "source": [
    "# １导入必要的库"
   ]
  },
  {
   "cell_type": "code",
   "execution_count": 1,
   "metadata": {},
   "outputs": [],
   "source": [
    "import pandas as pd\n",
    "import numpy as np\n",
    "import xgboost as xgb\n",
    "from sklearn.model_selection import train_test_split\n",
    "from sklearn.model_selection import KFold\n",
    "import lightgbm as lgb\n",
    "import pandas as pd\n",
    "import numpy as np\n",
    "import gc\n",
    "from tqdm import tqdm_notebook as tqdm\n",
    "import copy\n"
   ]
  },
  {
   "cell_type": "markdown",
   "metadata": {},
   "source": [
    "# 2 载入必要的文件"
   ]
  },
  {
   "cell_type": "code",
   "execution_count": 2,
   "metadata": {},
   "outputs": [],
   "source": [
    "train=pd.read_csv('../data/meinian_round1_train_20180408.csv',sep=',',encoding='gbk')\n",
    "test=pd.read_csv('../data/meinian_round1_test_b_20180505.csv',sep=',',encoding='gbk')\n",
    "data_part1=pd.read_csv('../data/meinian_round1_data_part1_20180408.zip',sep='$',encoding='utf-8')\n",
    "data_part2=pd.read_csv('../data/meinian_round1_data_part2_20180408.zip',sep='$',encoding='utf-8')\n",
    "physical_data = data_part1.append(data_part2)"
   ]
  },
  {
   "cell_type": "markdown",
   "metadata": {},
   "source": [
    "# 3 基本数据处理"
   ]
  },
  {
   "cell_type": "code",
   "execution_count": 3,
   "metadata": {},
   "outputs": [],
   "source": [
    "physical_data['field_results'] = physical_data['field_results'].astype('str')\n",
    "physical_data = pd.pivot_table(physical_data,index='vid',columns='table_id',values='field_results',aggfunc=lambda x: '_'.join(x))\n",
    "physical_data.to_pickle('../data/physical_data.pkl')\n",
    "index = np.save('../data/index.npy',physical_data.index)"
   ]
  },
  {
   "cell_type": "markdown",
   "metadata": {},
   "source": [
    "# 4 EDA,及一些对数据的人为分析，后续看不懂的地方都在这一步完成．"
   ]
  },
  {
   "cell_type": "markdown",
   "metadata": {},
   "source": [
    "# 5 数据清洗及特征提取"
   ]
  },
  {
   "cell_type": "code",
   "execution_count": 4,
   "metadata": {},
   "outputs": [
    {
     "name": "stdout",
     "output_type": "stream",
     "text": [
      "2388 列缺失值超过阈值\n",
      "(57298, 408)\n"
     ]
    },
    {
     "data": {
      "application/vnd.jupyter.widget-view+json": {
       "model_id": "ac8e49ea82de4172a1bc6777097a4e15",
       "version_major": 2,
       "version_minor": 0
      },
      "text/html": [
       "<p>Failed to display Jupyter Widget of type <code>HBox</code>.</p>\n",
       "<p>\n",
       "  If you're reading this message in Jupyter Notebook or JupyterLab, it may mean\n",
       "  that the widgets JavaScript is still loading. If this message persists, it\n",
       "  likely means that the widgets JavaScript library is either not installed or\n",
       "  not enabled. See the <a href=\"https://ipywidgets.readthedocs.io/en/stable/user_install.html\">Jupyter\n",
       "  Widgets Documentation</a> for setup instructions.\n",
       "</p>\n",
       "<p>\n",
       "  If you're reading this message in another notebook frontend (for example, a static\n",
       "  rendering on GitHub or <a href=\"https://nbviewer.jupyter.org/\">NBViewer</a>),\n",
       "  it may mean that your frontend doesn't currently support widgets.\n",
       "</p>\n"
      ],
      "text/plain": [
       "HBox(children=(IntProgress(value=0, max=408), HTML(value='')))"
      ]
     },
     "metadata": {},
     "output_type": "display_data"
    },
    {
     "name": "stdout",
     "output_type": "stream",
     "text": [
      "\n",
      "数值特征数目97\n",
      "字符特征数目311\n"
     ]
    },
    {
     "data": {
      "application/vnd.jupyter.widget-view+json": {
       "model_id": "c91a1fc31f4345a88316166c66a02077",
       "version_major": 2,
       "version_minor": 0
      },
      "text/html": [
       "<p>Failed to display Jupyter Widget of type <code>HBox</code>.</p>\n",
       "<p>\n",
       "  If you're reading this message in Jupyter Notebook or JupyterLab, it may mean\n",
       "  that the widgets JavaScript is still loading. If this message persists, it\n",
       "  likely means that the widgets JavaScript library is either not installed or\n",
       "  not enabled. See the <a href=\"https://ipywidgets.readthedocs.io/en/stable/user_install.html\">Jupyter\n",
       "  Widgets Documentation</a> for setup instructions.\n",
       "</p>\n",
       "<p>\n",
       "  If you're reading this message in another notebook frontend (for example, a static\n",
       "  rendering on GitHub or <a href=\"https://nbviewer.jupyter.org/\">NBViewer</a>),\n",
       "  it may mean that your frontend doesn't currently support widgets.\n",
       "</p>\n"
      ],
      "text/plain": [
       "HBox(children=(IntProgress(value=0, max=408), HTML(value='')))"
      ]
     },
     "metadata": {},
     "output_type": "display_data"
    },
    {
     "name": "stdout",
     "output_type": "stream",
     "text": [
      "\n"
     ]
    }
   ],
   "source": [
    "# 增加项目数作为特征\n",
    "physical_data.reset_index(drop=True,inplace=True)\n",
    "physical_data['subject_num'] = 2795-physical_data.isnull().sum(axis=1)\n",
    "column_name = physical_data.columns\n",
    "drop_column = []\n",
    "valid_column = []\n",
    "valid_df = pd.DataFrame()\n",
    "for f in range(len(column_name)):\n",
    "    if physical_data.iloc[:,f].isnull().sum()>55000:\n",
    "        drop_column.append(f)\n",
    "    else:\n",
    "        valid_column.append(f)\n",
    "print('%d 列缺失值超过阈值'%len(drop_column))\n",
    "new_df = pd.DataFrame()\n",
    "for i in valid_column:\n",
    "    new_df[column_name[i]] = physical_data.iloc[:,i]\n",
    "print(new_df.shape)\n",
    "\n",
    "# 统计特征类型数目\n",
    "physical_data = new_df\n",
    "column_name = list(physical_data.columns.values)\n",
    "numerical_feature = []\n",
    "for item in tqdm(column_name):\n",
    "    try:\n",
    "        physical_data[item] = physical_data[item].astype('float16')\n",
    "        numerical_feature.append(item)\n",
    "    except:\n",
    "        continue\n",
    "str_feature = []\n",
    "for item in column_name:\n",
    "    if item not in numerical_feature:\n",
    "        str_feature.append(item)\n",
    "print('数值特征数目%d'% (len(numerical_feature)))\n",
    "print('字符特征数目%d'%(len(str_feature)))\n",
    "\n",
    "# clean the data\n",
    "#数据预处理之删除所有空格，替换ＩI,替换'阴性'为'-',\n",
    "#[用'_'分割一模一样则合并,有nan则删除，有数字和其他则保留数字，都是数字取平均值,doushi]，从<0.6提取关键信息\n",
    "str_feature = physical_data.columns\n",
    "for j in tqdm(str_feature):\n",
    "    row = []\n",
    "    for i in range(len(physical_data)):\n",
    "        value = physical_data.loc[i,j]\n",
    "        value = str(value).strip()\n",
    "        if value in ['nan','None']:\n",
    "            row.append(np.NaN)\n",
    "        else:\n",
    "            try:\n",
    "                row.append(float(value))\n",
    "            except:\n",
    "                if '_' in value:\n",
    "                    value_list = []\n",
    "                    for sub_value in value.split('_'):\n",
    "                        # 去空格\n",
    "                        sub_value = str(sub_value).strip()\n",
    "                        # 去空值\n",
    "                        if sub_value in ['nan','None']:\n",
    "                            continue\n",
    "                        else:\n",
    "                            try:\n",
    "                                value_list.append(float(value))\n",
    "                            except:\n",
    "                                if '未检' in sub_value or '弃查' in sub_value or '未查' in sub_value or '未检查'in sub_value:\n",
    "                                    continue\n",
    "                                else:\n",
    "                                    sub_value = sub_value.replace('阴性','-')\n",
    "                                    sub_value = sub_value.replace('阳性','+')\n",
    "                                    sub_value = sub_value.replace('偏阳','+-')\n",
    "                                    sub_value = sub_value.replace('P','+')\n",
    "                                    sub_value = sub_value.replace('p','+')\n",
    "                                    sub_value = sub_value.replace('N','-')\n",
    "                                    sub_value = sub_value.replace('IV','4')\n",
    "                                    sub_value = sub_value.replace('V','5')\n",
    "                                    sub_value = sub_value.replace('III','3')\n",
    "                                    sub_value = sub_value.replace('II','2')\n",
    "                                    sub_value = sub_value.replace('I','1')\n",
    "                                    sub_value = sub_value.replace('。','.')\n",
    "                                    sub_value = sub_value.strip('.')\n",
    "                                    sub_value = sub_value.strip('°')\n",
    "                                    sub_value = sub_value.strip('%')\n",
    "                                    sub_value = sub_value.strip('度')\n",
    "                                    sub_value = sub_value.strip('mmol/L')\n",
    "                                    sub_value = sub_value.strip('自述不查')\n",
    "                                    sub_value = sub_value.strip('详见报告单')\n",
    "                                    sub_value = sub_value.strip('/')\n",
    "                                    sub_value = sub_value.strip('标本已退检')\n",
    "                                    sub_value = sub_value.strip()\n",
    "                                    sub_value = sub_value.replace('..','.')\n",
    "                                    sub_value = sub_value.replace('＜','<')\n",
    "                                    sub_value = sub_value.replace('＞','>')\n",
    "                                    sub_value = sub_value.replace('>','')\n",
    "                                    sub_value = sub_value.replace('<','')\n",
    "                                    sub_value = sub_value.replace('＋','+')\n",
    "                                    sub_value = sub_value.replace('－','-')\n",
    "                                    sub_value = sub_value.replace('iv','４')\n",
    "                                    sub_value = sub_value.replace('iii','3')\n",
    "                                    sub_value = sub_value.replace('ii','2')\n",
    "                                    sub_value = sub_value.replace('i','1')\n",
    "                                    sub_value = sub_value.replace('Ⅲ','3')\n",
    "                                    sub_value = sub_value.replace('Ⅱ','2')\n",
    "                                    sub_value = sub_value.replace('Ⅰ','1')\n",
    "                                    sub_value = sub_value.replace('Ⅳ','4')\n",
    "                                    sub_value = sub_value.replace('中度','2')\n",
    "                                value_list.append(sub_value)\n",
    "                    if value_list == []:\n",
    "                        row.append(np.NaN)\n",
    "                    else:\n",
    "                        # 去重\n",
    "                        value_list = list(set(value_list))\n",
    "                        # 都是数字，取平均值\n",
    "                        try:\n",
    "                            row.append(np.mean([float(x) for x in value_list]))\n",
    "                        except:\n",
    "                            flag = False\n",
    "                            for sth in value_list:\n",
    "                                try:\n",
    "                                    float(sth)\n",
    "                                    row.append(sth)\n",
    "                                    flag = True\n",
    "                                    break\n",
    "                                except:\n",
    "                                    continue\n",
    "                            \n",
    "                            if flag:\n",
    "                                pass\n",
    "                            else:\n",
    "                                value_list = '_'.join(value_list)\n",
    "                                row.append(value_list)\n",
    "                else:\n",
    "                    sub_value = value\n",
    "                    if '未检' in sub_value or '弃查' in sub_value or '未查' in sub_value or '未检查'in sub_value:\n",
    "                        row.append(np.NaN)\n",
    "                    else:\n",
    "                        sub_value = sub_value.replace('阴性','-')\n",
    "                        sub_value = sub_value.replace('阳性','+')\n",
    "                        sub_value = sub_value.replace('偏阳','+-')\n",
    "                        sub_value = sub_value.replace('P','+')\n",
    "                        sub_value = sub_value.replace('p','+')\n",
    "                        sub_value = sub_value.replace('N','-')\n",
    "                        sub_value = sub_value.replace('IV','4')\n",
    "                        sub_value = sub_value.replace('V','5')\n",
    "                        sub_value = sub_value.replace('III','3')\n",
    "                        sub_value = sub_value.replace('II','2')\n",
    "                        sub_value = sub_value.replace('I','1')\n",
    "                        sub_value = sub_value.replace('。','.')\n",
    "                        sub_value = sub_value.strip('.')\n",
    "                        sub_value = sub_value.strip('°')\n",
    "                        sub_value = sub_value.strip('%')\n",
    "                        sub_value = sub_value.strip('度')\n",
    "                        sub_value = sub_value.strip('mmol/L')\n",
    "                        sub_value = sub_value.strip('自述不查')\n",
    "                        sub_value = sub_value.strip('详见报告单')\n",
    "                        sub_value = sub_value.strip('/')\n",
    "                        sub_value = sub_value.strip('标本已退检')\n",
    "                        sub_value = sub_value.strip()\n",
    "                        sub_value = sub_value.replace('..','.')\n",
    "                        sub_value = sub_value.replace('＜','<')\n",
    "                        sub_value = sub_value.replace('＞','>')\n",
    "                        sub_value = sub_value.replace('>','')\n",
    "                        sub_value = sub_value.replace('<','')\n",
    "                        sub_value = sub_value.replace('＋','+')\n",
    "                        sub_value = sub_value.replace('－','-')\n",
    "                        sub_value = sub_value.replace('iv','４')\n",
    "                        sub_value = sub_value.replace('iii','3')\n",
    "                        sub_value = sub_value.replace('ii','2')\n",
    "                        sub_value = sub_value.replace('i','1')\n",
    "                        sub_value = sub_value.replace('Ⅲ','3')\n",
    "                        sub_value = sub_value.replace('Ⅱ','2')\n",
    "                        sub_value = sub_value.replace('Ⅰ','1')\n",
    "                        sub_value = sub_value.replace('Ⅳ','4')\n",
    "                        sub_value = sub_value.replace('中度','2')\n",
    "                        row.append(sub_value)\n",
    "\n",
    "    physical_data[j] = row\n",
    "    \n",
    "    "
   ]
  },
  {
   "cell_type": "markdown",
   "metadata": {},
   "source": [
    "# 6 特征转换为数值"
   ]
  },
  {
   "cell_type": "code",
   "execution_count": 5,
   "metadata": {},
   "outputs": [],
   "source": [
    "# 手动确定一些肉眼观测过的列为数值列和无关列\n",
    "customized_num_column = ['100005', '100007', '10002', '10003' ,'1107', '1115', '1117', '1127', '1345',\n",
    " '1814', '1845', '190', '2174', '2403', '2404', '2405', '2406', '2420', '269007',\n",
    " '269008', '269009', '269010', '269011', '269014', '269015', '269016', '269017',\n",
    " '269018', '269019', '269020', '269021', '269022', '269023', '269024', '269025',\n",
    " '315', '316', '317', '319', '33', '34', '37', '39', '669001', '809009', '979004',\n",
    " '979005', '979006', '979008', '979009', '979011', '979013', '979014', '979015',\n",
    " '979016', '979017', '979018', '979019', '979020', '979021', '979022', '979023',\n",
    " '0422', '0423', '0977', '1103', '1106', '1303', '1304', '1305', '1308' ,'1313',\n",
    " '1314', '1315', '1316', '1330', '139', '143', '1474', '155', '1840', '1850', '191',\n",
    " '192', '2231', '2501', '269003', '269013', '300036']\n",
    "customized_drop_column = ['0121', '0122', '0123', '0202', '0203', '0206', '0207' ,'0208', '0209', '0210',\n",
    " '0212', '0215', '0216', '0225', '0403', '0405', '0406', '0413', '0420', '0421',\n",
    " '0425', '0426', '0427', '0428', '0429', '0430', '0434', '0435', '0436', '0501',\n",
    " '0503', '0509', '0516', '0702', '0703', '0705', '0706', '0707', '0709', '0912',\n",
    " '0947', '0949', '0954', '0972', '0973', '0974', '0975', '0980', '0983', '0984',\n",
    " '0985', '0987', '100014', '1001', '1102', '1301', '1329', '1402', '31', '312', '313']\n"
   ]
  },
  {
   "cell_type": "code",
   "execution_count": 6,
   "metadata": {},
   "outputs": [
    {
     "data": {
      "application/vnd.jupyter.widget-view+json": {
       "model_id": "ba6455e13599429b8ee7a85d418c8f0c",
       "version_major": 2,
       "version_minor": 0
      },
      "text/html": [
       "<p>Failed to display Jupyter Widget of type <code>HBox</code>.</p>\n",
       "<p>\n",
       "  If you're reading this message in Jupyter Notebook or JupyterLab, it may mean\n",
       "  that the widgets JavaScript is still loading. If this message persists, it\n",
       "  likely means that the widgets JavaScript library is either not installed or\n",
       "  not enabled. See the <a href=\"https://ipywidgets.readthedocs.io/en/stable/user_install.html\">Jupyter\n",
       "  Widgets Documentation</a> for setup instructions.\n",
       "</p>\n",
       "<p>\n",
       "  If you're reading this message in another notebook frontend (for example, a static\n",
       "  rendering on GitHub or <a href=\"https://nbviewer.jupyter.org/\">NBViewer</a>),\n",
       "  it may mean that your frontend doesn't currently support widgets.\n",
       "</p>\n"
      ],
      "text/plain": [
       "HBox(children=(IntProgress(value=0, max=408), HTML(value='')))"
      ]
     },
     "metadata": {},
     "output_type": "display_data"
    },
    {
     "name": "stdout",
     "output_type": "stream",
     "text": [
      "\n",
      "数值特征数目170\n",
      "字符特征数目238\n",
      "(57298, 170)\n",
      "(57298, 194)\n",
      "剩余字符特征154\n"
     ]
    },
    {
     "data": {
      "application/vnd.jupyter.widget-view+json": {
       "model_id": "c3844d52951f4c9ab743f1dc77efe58e",
       "version_major": 2,
       "version_minor": 0
      },
      "text/html": [
       "<p>Failed to display Jupyter Widget of type <code>HBox</code>.</p>\n",
       "<p>\n",
       "  If you're reading this message in Jupyter Notebook or JupyterLab, it may mean\n",
       "  that the widgets JavaScript is still loading. If this message persists, it\n",
       "  likely means that the widgets JavaScript library is either not installed or\n",
       "  not enabled. See the <a href=\"https://ipywidgets.readthedocs.io/en/stable/user_install.html\">Jupyter\n",
       "  Widgets Documentation</a> for setup instructions.\n",
       "</p>\n",
       "<p>\n",
       "  If you're reading this message in another notebook frontend (for example, a static\n",
       "  rendering on GitHub or <a href=\"https://nbviewer.jupyter.org/\">NBViewer</a>),\n",
       "  it may mean that your frontend doesn't currently support widgets.\n",
       "</p>\n"
      ],
      "text/plain": [
       "HBox(children=(IntProgress(value=0, max=154), HTML(value='')))"
      ]
     },
     "metadata": {},
     "output_type": "display_data"
    },
    {
     "name": "stdout",
     "output_type": "stream",
     "text": [
      "\n",
      "(57298, 348)\n",
      "58 23\n"
     ]
    }
   ],
   "source": [
    "column_name = list(physical_data.columns.values)\n",
    "numerical_feature = []\n",
    "for item in tqdm(column_name):\n",
    "    try:\n",
    "        physical_data[item] = physical_data[item].astype('float16')\n",
    "        numerical_feature.append(item)\n",
    "    except:\n",
    "        continue\n",
    "str_feature = []\n",
    "for item in column_name:\n",
    "    if item not in numerical_feature:\n",
    "        str_feature.append(item)\n",
    "print('数值特征数目%d'% (len(numerical_feature)))\n",
    "print('字符特征数目%d'%(len(str_feature)))\n",
    "\n",
    "# 1 原始数值\n",
    "new_df = pd.DataFrame()\n",
    "for i in numerical_feature:\n",
    "    new_df[i] = physical_data.loc[:,i]\n",
    "print(new_df.shape)\n",
    "\n",
    "# 2 新增数值\n",
    "num_func = customized_num_column\n",
    "num_func = [x for x in num_func if x not in numerical_feature]\n",
    "for i in num_func:\n",
    "    name = i\n",
    "    new_column = []\n",
    "    for value in physical_data.loc[:,name]:\n",
    "        try:\n",
    "            new_column.append(float(value))\n",
    "        except:\n",
    "            value = value.replace('-','')\n",
    "            value = value.replace('+','')\n",
    "            if '-' in value:\n",
    "                try:\n",
    "                    t = np.mean(map(float,value.split('-')))\n",
    "                    new_column.append(t)\n",
    "                    print(t)\n",
    "                except:\n",
    "                    new_column.append(np.NaN)\n",
    "            else:\n",
    "                try:\n",
    "                    new_column.append(float(value))\n",
    "                except:\n",
    "                    new_column.append(np.NaN)\n",
    "    try:\n",
    "        map(float,new_column)\n",
    "    except:\n",
    "        print('bad feature',i)\n",
    "    new_df[name] = new_column\n",
    "print(new_df.shape)\n",
    "\n",
    "negative_word = ['+','慢性','肿大','痛疼','压痛','出现异常','不正常','差','不佳','欠均匀','坏死','异常','显示不清','扩张','增大',\n",
    "                '增厚','痛','轻度','重度','晚期','偏高','偏低','不清晰','畸形','先天性','瘘管','囊肿','湿疹','肥大','糖尿病','糜烂','出血','充血','咽炎','建议医院及时就诊','建议及时就诊','过长','过短','建议进一步','手术治疗','观察',\n",
    "                '血肿','紊乱','增生','炎','疑似','确诊','结节','疝','糖尿病','瘤','水肿','+-''失常','建议复查']     \n",
    "positive_word = ['未见明显异常','未见异常','-','正常','健康','未触及','未检出','弃查','未查','未见异','无特殊','未及','整齐',\n",
    "                '齐','单字无','无重大手术','无过敏史','无叩痛','无特殊记载','未检','活动自如','阴性','良好','及格','无扩张',\n",
    "                '未显示','未探及','未闻及']\n",
    "negative_sign = ['无','未发现','未出现','没有','不','未见']\n",
    "\n",
    "# ３增加等级数值\n",
    "drop = customized_drop_column\n",
    "numerical_feature = numerical_feature+num_func\n",
    "column_name = list(physical_data.columns.values)\n",
    "remain_str = [x for x in column_name if x not in numerical_feature  and x not in drop]\n",
    "print('剩余字符特征%d'%len(remain_str))\n",
    "huayan_feature = []\n",
    "nume = 0\n",
    "char = 0\n",
    "for item in tqdm(remain_str):\n",
    "    this_column = physical_data.loc[:,item]\n",
    "    new_column = []\n",
    "    num_value = 0\n",
    "    grade_value = 0\n",
    "    other = 0\n",
    "    for value in this_column:\n",
    "        value = str(value)\n",
    "        if value == 'nan':\n",
    "            continue\n",
    "        else:\n",
    "            try:\n",
    "                float(value)\n",
    "                num_value+=1\n",
    "            except:\n",
    "                if '-' in value or '+' in value:\n",
    "                    grade_value+=1\n",
    "                else:\n",
    "                    other+=1\n",
    "    total = other+num_value+grade_value\n",
    "    # 转数字列\n",
    "    if num_value/total>0.6:\n",
    "        nume+=1\n",
    "        for value in this_column:\n",
    "            value = str(value)\n",
    "            if value == 'nan':\n",
    "                new_column.append(np.NaN)\n",
    "            else:\n",
    "                try:\n",
    "                    float(value)\n",
    "                    new_column.append(abs(float(value)))\n",
    "                except:\n",
    "                    if '+' in value:\n",
    "                        if new_column == []:\n",
    "                            c = [1]\n",
    "                        else:\n",
    "                            c = new_column\n",
    "                        new_column.append(np.log(max(c)+1))\n",
    "                    elif '-' in value:\n",
    "                        if new_column == []:\n",
    "                            c = [0]\n",
    "                        else:\n",
    "                            c = new_column\n",
    "                        new_column.append(min(c))\n",
    "                    else:\n",
    "                        new_column.append(np.NaN)\n",
    "        new_df[item] = new_column\n",
    "    # 转等级列\n",
    "    elif grade_value/total>0.6:\n",
    "        char+=1\n",
    "        huayan_feature.append(item)\n",
    "        for value in this_column:\n",
    "            value = str(value)\n",
    "            if value == 'nan':\n",
    "                new_column.append(np.NaN)\n",
    "            elif value in ['少','少见','低','较低','少量']:\n",
    "                new_column.append(-0.5)\n",
    "            elif '多' in value or '高'in value or '强' in value:\n",
    "                new_column.append(1)\n",
    "            elif '+' in value or '-' in value:\n",
    "                plus = value.count('+')\n",
    "                minus = 0-value.count('-')*0.5\n",
    "                new_column.append(plus+minus)\n",
    "            else:\n",
    "                new_column.append(np.NaN)\n",
    "        new_df[item] = new_column\n",
    "\n",
    "    # 转正常、异常二分类　\n",
    "    else:\n",
    "        positive = 0\n",
    "        negative = 0\n",
    "        for value in this_column:\n",
    "            value = str(value)\n",
    "            if value == 'nan':\n",
    "                new_column.append(np.NaN)\n",
    "            else:\n",
    "                be_pos = True\n",
    "                for word in negative_word:\n",
    "                    if word in value:\n",
    "                        value = value.replace(word, 'haha')\n",
    "                        be_neg = True\n",
    "                        for n in negative_sign:\n",
    "                            if n in value:\n",
    "                                be_neg = False\n",
    "                                break\n",
    "                        if be_neg:\n",
    "                            new_column.append(1)\n",
    "                            be_pos = False\n",
    "                            break\n",
    "                        else:\n",
    "                            new_column.append(0)\n",
    "                            be_pos = False\n",
    "                            break\n",
    "                if be_pos:\n",
    "                    if '无'==value:\n",
    "                        new_column.append(0)\n",
    "                    else:\n",
    "                        pos_sign = False\n",
    "                        for word in positive_word:\n",
    "                            if word in value:\n",
    "                                value = value.replace(word, 'haha')\n",
    "                                be_pos = True\n",
    "                                for n in negative_sign:\n",
    "                                    if n in value:\n",
    "                                        be_pos = False\n",
    "                                        break\n",
    "                                if be_pos:\n",
    "                                    new_column.append(0)\n",
    "                                    pos_sign = True\n",
    "                                    break\n",
    "                                else:\n",
    "                                    new_column.append(1)\n",
    "                                    pos_sign = True\n",
    "                                    break\n",
    "                        if not pos_sign:\n",
    "                            new_column.append(1)\n",
    "        new_df[item] = new_column\n",
    "print(new_df.shape)\n",
    "print(nume,char)\n",
    "# print(len(new_column)-physical_data.shape[0])\n",
    "                    "
   ]
  },
  {
   "cell_type": "code",
   "execution_count": 7,
   "metadata": {},
   "outputs": [
    {
     "name": "stdout",
     "output_type": "stream",
     "text": [
      "2303 列缺失值超过阈值\n",
      "145\n",
      "57298\n",
      "(57298, 349)\n"
     ]
    },
    {
     "data": {
      "application/vnd.jupyter.widget-view+json": {
       "model_id": "8e5aa9824cee49ee9b51909b2e52a049",
       "version_major": 2,
       "version_minor": 0
      },
      "text/html": [
       "<p>Failed to display Jupyter Widget of type <code>HBox</code>.</p>\n",
       "<p>\n",
       "  If you're reading this message in Jupyter Notebook or JupyterLab, it may mean\n",
       "  that the widgets JavaScript is still loading. If this message persists, it\n",
       "  likely means that the widgets JavaScript library is either not installed or\n",
       "  not enabled. See the <a href=\"https://ipywidgets.readthedocs.io/en/stable/user_install.html\">Jupyter\n",
       "  Widgets Documentation</a> for setup instructions.\n",
       "</p>\n",
       "<p>\n",
       "  If you're reading this message in another notebook frontend (for example, a static\n",
       "  rendering on GitHub or <a href=\"https://nbviewer.jupyter.org/\">NBViewer</a>),\n",
       "  it may mean that your frontend doesn't currently support widgets.\n",
       "</p>\n"
      ],
      "text/plain": [
       "HBox(children=(IntProgress(value=0, max=57298), HTML(value='')))"
      ]
     },
     "metadata": {},
     "output_type": "display_data"
    },
    {
     "name": "stdout",
     "output_type": "stream",
     "text": [
      "\n"
     ]
    },
    {
     "data": {
      "application/vnd.jupyter.widget-view+json": {
       "model_id": "f911591d20704dad8771fb9d9655d1a0",
       "version_major": 2,
       "version_minor": 0
      },
      "text/html": [
       "<p>Failed to display Jupyter Widget of type <code>HBox</code>.</p>\n",
       "<p>\n",
       "  If you're reading this message in Jupyter Notebook or JupyterLab, it may mean\n",
       "  that the widgets JavaScript is still loading. If this message persists, it\n",
       "  likely means that the widgets JavaScript library is either not installed or\n",
       "  not enabled. See the <a href=\"https://ipywidgets.readthedocs.io/en/stable/user_install.html\">Jupyter\n",
       "  Widgets Documentation</a> for setup instructions.\n",
       "</p>\n",
       "<p>\n",
       "  If you're reading this message in another notebook frontend (for example, a static\n",
       "  rendering on GitHub or <a href=\"https://nbviewer.jupyter.org/\">NBViewer</a>),\n",
       "  it may mean that your frontend doesn't currently support widgets.\n",
       "</p>\n"
      ],
      "text/plain": [
       "HBox(children=(IntProgress(value=0, max=57298), HTML(value='')))"
      ]
     },
     "metadata": {},
     "output_type": "display_data"
    },
    {
     "name": "stdout",
     "output_type": "stream",
     "text": [
      "\n"
     ]
    },
    {
     "data": {
      "application/vnd.jupyter.widget-view+json": {
       "model_id": "0fa8580c10184db98d7bfd5a7e633661",
       "version_major": 2,
       "version_minor": 0
      },
      "text/html": [
       "<p>Failed to display Jupyter Widget of type <code>HBox</code>.</p>\n",
       "<p>\n",
       "  If you're reading this message in Jupyter Notebook or JupyterLab, it may mean\n",
       "  that the widgets JavaScript is still loading. If this message persists, it\n",
       "  likely means that the widgets JavaScript library is either not installed or\n",
       "  not enabled. See the <a href=\"https://ipywidgets.readthedocs.io/en/stable/user_install.html\">Jupyter\n",
       "  Widgets Documentation</a> for setup instructions.\n",
       "</p>\n",
       "<p>\n",
       "  If you're reading this message in another notebook frontend (for example, a static\n",
       "  rendering on GitHub or <a href=\"https://nbviewer.jupyter.org/\">NBViewer</a>),\n",
       "  it may mean that your frontend doesn't currently support widgets.\n",
       "</p>\n"
      ],
      "text/plain": [
       "HBox(children=(IntProgress(value=0, max=57298), HTML(value='')))"
      ]
     },
     "metadata": {},
     "output_type": "display_data"
    },
    {
     "name": "stdout",
     "output_type": "stream",
     "text": [
      "\n"
     ]
    },
    {
     "data": {
      "application/vnd.jupyter.widget-view+json": {
       "model_id": "3efb0f289ce0493680c85cc097e3d727",
       "version_major": 2,
       "version_minor": 0
      },
      "text/html": [
       "<p>Failed to display Jupyter Widget of type <code>HBox</code>.</p>\n",
       "<p>\n",
       "  If you're reading this message in Jupyter Notebook or JupyterLab, it may mean\n",
       "  that the widgets JavaScript is still loading. If this message persists, it\n",
       "  likely means that the widgets JavaScript library is either not installed or\n",
       "  not enabled. See the <a href=\"https://ipywidgets.readthedocs.io/en/stable/user_install.html\">Jupyter\n",
       "  Widgets Documentation</a> for setup instructions.\n",
       "</p>\n",
       "<p>\n",
       "  If you're reading this message in another notebook frontend (for example, a static\n",
       "  rendering on GitHub or <a href=\"https://nbviewer.jupyter.org/\">NBViewer</a>),\n",
       "  it may mean that your frontend doesn't currently support widgets.\n",
       "</p>\n"
      ],
      "text/plain": [
       "HBox(children=(IntProgress(value=0, max=57298), HTML(value='')))"
      ]
     },
     "metadata": {},
     "output_type": "display_data"
    },
    {
     "name": "stdout",
     "output_type": "stream",
     "text": [
      "\n"
     ]
    }
   ],
   "source": [
    "raw_data = pd.read_pickle('../data/physical_data.pkl')\n",
    "# 加入化验指标\n",
    "huayan_df = pd.DataFrame()\n",
    "for item in huayan_feature:\n",
    "    huayan_df[item] = raw_data.loc[:,item]\n",
    "new_df['huayan']=len(huayan_feature)-huayan_df.isnull().sum(axis=1)\n",
    "\n",
    "# temp_df\n",
    "column_name = raw_data.columns\n",
    "drop_column = []\n",
    "valid_column = []\n",
    "valid_df = pd.DataFrame()\n",
    "for f in column_name:\n",
    "    if raw_data.loc[:,f].isnull().sum()>56000:\n",
    "        drop_column.append(f)\n",
    "    else:\n",
    "        valid_column.append(f)\n",
    "print('%d 列缺失值超过阈值'%len(drop_column))\n",
    "\n",
    "# temp_df\n",
    "temp_df = pd.DataFrame()\n",
    "str_feature_temp = [x for x in raw_data.columns if x not in new_df.columns and x in valid_column]\n",
    "print(len(str_feature_temp))\n",
    "for item in str_feature_temp:\n",
    "    temp_df[item] = raw_data.loc[:,item]\n",
    "    \n",
    "# 某些特征指标\n",
    "new_name = {'肝炎':['肝炎'],'高血压':['高血压','血压偏高'],'高血脂':['高血脂','血脂偏高','高尿酸'],'血管':['动脉硬化','弹性减弱'\n",
    "       '动脉轻度硬化','血管狭窄','动脉重度减弱','血管堵塞']}\n",
    "x = temp_df.shape[0]\n",
    "y = temp_df.shape[1]\n",
    "print(x)\n",
    "print(new_df.shape)\n",
    "for item,values in new_name.items():\n",
    "    new_column = []\n",
    "    for i in tqdm(range(x)):\n",
    "        c = 0\n",
    "        for j in range(y):\n",
    "            v = raw_data.iloc[i,j]\n",
    "            if isinstance(v,str):\n",
    "                for sub_name in values:\n",
    "                    if sub_name in v:\n",
    "                        c = 1\n",
    "                        break\n",
    "                if c == 1:\n",
    "                    break\n",
    "        new_column.append(c)\n",
    "    new_df[item] = new_column\n",
    "           "
   ]
  },
  {
   "cell_type": "code",
   "execution_count": null,
   "metadata": {},
   "outputs": [],
   "source": []
  },
  {
   "cell_type": "code",
   "execution_count": 8,
   "metadata": {},
   "outputs": [],
   "source": [
    "new_df.to_pickle('../data/train_data.pkl')"
   ]
  },
  {
   "cell_type": "markdown",
   "metadata": {},
   "source": [
    "# ７特征提取完毕，训练"
   ]
  },
  {
   "cell_type": "code",
   "execution_count": 9,
   "metadata": {},
   "outputs": [
    {
     "data": {
      "application/vnd.jupyter.widget-view+json": {
       "model_id": "018465ec63f5446e8df3d912b1ab8330",
       "version_major": 2,
       "version_minor": 0
      },
      "text/html": [
       "<p>Failed to display Jupyter Widget of type <code>HBox</code>.</p>\n",
       "<p>\n",
       "  If you're reading this message in Jupyter Notebook or JupyterLab, it may mean\n",
       "  that the widgets JavaScript is still loading. If this message persists, it\n",
       "  likely means that the widgets JavaScript library is either not installed or\n",
       "  not enabled. See the <a href=\"https://ipywidgets.readthedocs.io/en/stable/user_install.html\">Jupyter\n",
       "  Widgets Documentation</a> for setup instructions.\n",
       "</p>\n",
       "<p>\n",
       "  If you're reading this message in another notebook frontend (for example, a static\n",
       "  rendering on GitHub or <a href=\"https://nbviewer.jupyter.org/\">NBViewer</a>),\n",
       "  it may mean that your frontend doesn't currently support widgets.\n",
       "</p>\n"
      ],
      "text/plain": [
       "HBox(children=(IntProgress(value=0, max=353), HTML(value='')))"
      ]
     },
     "metadata": {},
     "output_type": "display_data"
    },
    {
     "name": "stdout",
     "output_type": "stream",
     "text": [
      "\n"
     ]
    }
   ],
   "source": [
    "physical_data = pd.read_pickle('../data/train_data.pkl')\n",
    "index = np.load('../data/index.npy')\n",
    "physical_data.index = index\n",
    "# 去除inf数据\n",
    "j = 0\n",
    "for column in tqdm(physical_data.columns):\n",
    "    new_column = []\n",
    "    for i in range(len(index)):\n",
    "        value = physical_data.iloc[i,j]\n",
    "        if str(value) == 'inf':\n",
    "            max_value = [x if str(x) not in ['inf','nan'] else 0 for x in physical_data.loc[:,column]]\n",
    "            new_column.append(np.max(max_value)*1.5)\n",
    "        else:\n",
    "            new_column.append(value)\n",
    "    physical_data[column] = new_column\n",
    "    j+=1"
   ]
  },
  {
   "cell_type": "code",
   "execution_count": 10,
   "metadata": {},
   "outputs": [
    {
     "name": "stdout",
     "output_type": "stream",
     "text": [
      "收缩压\n"
     ]
    },
    {
     "name": "stderr",
     "output_type": "stream",
     "text": [
      "/home/zhu/anaconda3/lib/python3.6/site-packages/ipykernel_launcher.py:11: DeprecationWarning: \n",
      ".ix is deprecated. Please use\n",
      ".loc for label based indexing or\n",
      ".iloc for positional indexing\n",
      "\n",
      "See the documentation here:\n",
      "http://pandas.pydata.org/pandas-docs/stable/indexing.html#ix-indexer-is-deprecated\n",
      "  # This is added back by InteractiveShellApp.init_path()\n"
     ]
    },
    {
     "name": "stdout",
     "output_type": "stream",
     "text": [
      "舒张压\n",
      "血清甘油三酯\n",
      "血清高密度脂蛋白\n",
      "血清低密度脂蛋白\n"
     ]
    },
    {
     "data": {
      "text/plain": [
       "4405"
      ]
     },
     "execution_count": 10,
     "metadata": {},
     "output_type": "execute_result"
    }
   ],
   "source": [
    "# 裁剪数据，并生成五对训练测试集\n",
    "clip = {'收缩压':[60,250],'舒张压':[40,200],'血清甘油三酯':[0.1,20],\n",
    "        '血清高密度脂蛋白':[0.15,4.78],'血清低密度脂蛋白':[0.15,11.54]}\n",
    "colume_name = train.columns[1::]\n",
    "data_set = []\n",
    "for item in colume_name:\n",
    "    index = []\n",
    "    y = []\n",
    "    print(item)\n",
    "    for i in range(len(train)):\n",
    "        value = train.ix[i,item]\n",
    "        try:\n",
    "            c = float(value)\n",
    "            if c<0:\n",
    "                c = abs(c)\n",
    "            if c>0:\n",
    "                if c<clip[item][0]:\n",
    "                    c = clip[item][0]\n",
    "                elif c>clip[item][1]:\n",
    "                    c = clip[item][1]\n",
    "                index.append(train.ix[i,'vid'])\n",
    "                y.append(np.log(c+1))\n",
    "        except:\n",
    "            continue\n",
    "    assert len(y) == len(index)\n",
    "    data_set.append((index,y))    \n",
    "gc.collect()"
   ]
  },
  {
   "cell_type": "code",
   "execution_count": 11,
   "metadata": {},
   "outputs": [],
   "source": [
    "# %%time\n",
    "# # for xgb test\n",
    "# temp = []\n",
    "# def cal_loss(X,y,alpha):\n",
    "#     # for xgb test \n",
    "#     param = {}\n",
    "#     #param['objective'] = 'multi:softprob'\n",
    "#     param['eta'] = 0.1  \n",
    "#     param['max_depth'] = 7\n",
    "#     param['silent'] = 1  \n",
    "#     #param['num_class'] = 2\n",
    "#     # param['scale_pos_weight'] = 3\n",
    "#     param['learning_rate'] = alpha\n",
    "#     param['nthread'] = 8\n",
    "#     #param['colsample_bytree'] = 0.8\n",
    "#     param['objective'] = 'reg:linear'\n",
    "#     param['eval_metric'] = 'rmse'\n",
    "#     param['alpha'] = 3\n",
    "#     param['lambda'] = 1\n",
    "#     param['subsample'] = 0.8\n",
    "#     num_round = 5000\n",
    "#     kfolds = 5\n",
    "#     result = np.zeros((kfolds,len(test)))\n",
    "#     i = 0\n",
    "#     kf = KFold(n_splits=kfolds,shuffle=True,random_state=2017)\n",
    "#     for train_index,test_index in kf.split(X):\n",
    "#         X_train, X_test = X[train_index], X[test_index]\n",
    "#         y_train, y_test = y[train_index], y[test_index]\n",
    "#         xg_train = xgb.DMatrix(X_train, label = y_train) \n",
    "#         xg_test = xgb.DMatrix(X_test, label = y_test) \n",
    "#         watchlist = [(xg_train, 'train'), (xg_test, 'val')]\n",
    "#         bst = xgb.train(param, xg_train, num_round, watchlist, early_stopping_rounds = 100)\n",
    "#         y_ = bst.predict(xg_test)\n",
    "#         loss = pinche(y_,y_test)\n",
    "#         temp.append(loss)\n",
    "#         print('loss ',loss)\n",
    "# #         print(y_)\n",
    "# #         print(y_test)\n",
    "#         #result[i,:]=bst.predict(real_test)\n",
    "#         i += 1\n",
    "#         break\n",
    "    \n",
    "#     # result = result.mean(axis = 0)\n",
    "#     return loss,bst\n",
    "# def pinche(y,y_):\n",
    "#     loss = 0\n",
    "#     for (a,b) in zip(y,y_):\n",
    "#         loss += np.square(a-b)\n",
    "#     loss = loss/len(y)\n",
    "#     return loss\n",
    "# # for test\n",
    "# loss = 0\n",
    "# temp = []\n",
    "# alpha = [0.03,0.03,0.01,0.03,0.03]\n",
    "# droped = []\n",
    "# for i in tqdm(range(5)):\n",
    "# #     X = physical_data.loc[data_set[i][0],:].values\n",
    "# #     y = np.array(data_set[i][1])\n",
    "#     # 计算相关性\n",
    "    \n",
    "#     X = physical_data.loc[data_set[i][0],:]\n",
    "#     y = pd.Series(data_set[i][1],index=X.index)\n",
    "#     relation = []\n",
    "#     drop_name = []\n",
    "#     for item in X.columns:\n",
    "#         dest_column = X.loc[:,item]\n",
    "#         valid_index = dest_column[dest_column.isnull().values==False].index\n",
    "#         p = np.corrcoef(dest_column[valid_index],y[valid_index])[0,1]\n",
    "#         if str(p)=='nan':\n",
    "#             drop_name.append(item)\n",
    "#             continue\n",
    "#         relation.append(p)\n",
    "#         if abs(p)<0.001:\n",
    "#             drop_name.append(item)\n",
    "#     new_name = []\n",
    "#     for name in X.columns:\n",
    "#         if name not in drop_name:\n",
    "#             new_name.append(name)\n",
    "#     droped.append(len(drop_name))\n",
    "#     X = X.loc[:,new_name].values\n",
    "#     loss_,bst = cal_loss(X,y,alpha[i])\n",
    "#     loss += loss_\n",
    "    \n",
    "# #     print(loss)\n",
    "# #     break\n",
    "# print('综合误差',loss/5)\n",
    "# print(temp)\n",
    "# print(droped)\n",
    "#  [730,700,3000,1900,1500] 5folds\n",
    "#综合误差 0.0283987430225\n",
    "#[0.014185164660642451, 0.017427459798813025, 0.070259258661747953, 0.010533861670180705, 0.029587970321256648]\n",
    "#[1000,800,3400,1600,1000]\n",
    "#综合误差 0.0284058652739\n",
    "#[0.014108574382090414, 0.017440564477319388, 0.070309427643018216, 0.010475003189642052, 0.029695756677422185]\n",
    "#[911,1015,3400,2000,1000]\n",
    "#综合误差 0.0279969044026 扩充了０／１数据\n",
    "#[0.013857185028851752, 0.017187679117757895, 0.069640120188378729, 0.010260849633918358, 0.029038688044271885]\n",
    "#[1112,942,4000,1300,1600/1500]\n",
    "#综合误差 0.0282251169377\n",
    "#[0.013928837700233097, 0.017835912899625734, 0.068658421347080126, 0.01077727989589701, 0.029925132845582743]\n",
    "#"
   ]
  },
  {
   "cell_type": "code",
   "execution_count": 12,
   "metadata": {},
   "outputs": [],
   "source": [
    "# for submit　xgb and lgb bagging\n",
    "# real_test = xgb.DMatrix(physical_data.loc[test['vid'],:].values)\n",
    "# param = {}\n",
    "# #param['objective'] = 'multi:softprob'\n",
    "# param['eta'] = 0.1  \n",
    "# param['max_depth'] = 7\n",
    "# param['silent'] = 1  \n",
    "# #param['num_class'] = 2\n",
    "# # param['scale_pos_weight'] = 3\n",
    "# param['learning_rate'] = 0.03\n",
    "# param['nthread'] = 7\n",
    "# #param['colsample_bytree'] = 0.8\n",
    "# param['objective'] = 'reg:linear'\n",
    "# param['eval_metric'] = 'mae'\n",
    "# param['alpha'] = 3\n",
    "# param['lambda'] = 1\n",
    "# param['subsample'] = 0.8\n",
    "\n",
    "def cal_loss_2(X,y,lgb_tree,xgb_tree,learning_rate,real_test):\n",
    "    param_lgb = {\n",
    "    'num_leaves':128, \n",
    "    #'num_leaves':100, \n",
    "    'objective':'regression',\n",
    "    'metric':'l2',\n",
    "    'learning_rate': learning_rate,\n",
    "    'num_threads':8,\n",
    "     'subsample':0.8,\n",
    "    'lambda_l1':1,\n",
    "    'lambda_l2':1\n",
    "    #'min_sum_hessian_in_leaf':100\n",
    "    }\n",
    "    param_xgb = {\n",
    "        #param['objective'] = 'multi:softprob'\n",
    "    'eta' : 0.1,  \n",
    "    'max_depth' : 7,\n",
    "    'silent' : 1,  \n",
    "    'learning_rate' : learning_rate,\n",
    "    'nthread' : 8,\n",
    "    'objective' : 'reg:linear',\n",
    "    'eval_metric' : 'rmse',\n",
    "    'alpha' : 3,\n",
    "    'lambda' : 1,\n",
    "    'subsample': 0.8\n",
    "    \n",
    "    }\n",
    "    num_round = n\n",
    "    X_train = X\n",
    "    y_train = y\n",
    "    # lightgbm\n",
    "    train_data = lgb.Dataset(X_train,label = y_train)\n",
    "    bst = lgb.train(param_lgb, train_data, num_boost_round=lgb_tree)\n",
    "    y_lgb = np.array(bst.predict(real_test))\n",
    "\n",
    "    # xgboost\n",
    "    xg_train = xgb.DMatrix(X_train, label = y_train) \n",
    "    num_round = xgb_tree\n",
    "    bst = xgb.train(param_xgb, xg_train, num_round)\n",
    "    y_xgb = np.array(bst.predict(xgb.DMatrix(real_test)))\n",
    "    y_ = (y_lgb+y_xgb)/2\n",
    "    return y_\n",
    "def pinche(y,y_):\n",
    "    loss = 0\n",
    "    for (a,b) in zip(y,y_):\n",
    "        loss += np.square(a-b)\n",
    "    loss = loss/len(y)\n",
    "    return loss"
   ]
  },
  {
   "cell_type": "code",
   "execution_count": 13,
   "metadata": {},
   "outputs": [
    {
     "data": {
      "application/vnd.jupyter.widget-view+json": {
       "model_id": "897a50e09469404e998e6c90539f6c70",
       "version_major": 2,
       "version_minor": 0
      },
      "text/html": [
       "<p>Failed to display Jupyter Widget of type <code>HBox</code>.</p>\n",
       "<p>\n",
       "  If you're reading this message in Jupyter Notebook or JupyterLab, it may mean\n",
       "  that the widgets JavaScript is still loading. If this message persists, it\n",
       "  likely means that the widgets JavaScript library is either not installed or\n",
       "  not enabled. See the <a href=\"https://ipywidgets.readthedocs.io/en/stable/user_install.html\">Jupyter\n",
       "  Widgets Documentation</a> for setup instructions.\n",
       "</p>\n",
       "<p>\n",
       "  If you're reading this message in another notebook frontend (for example, a static\n",
       "  rendering on GitHub or <a href=\"https://nbviewer.jupyter.org/\">NBViewer</a>),\n",
       "  it may mean that your frontend doesn't currently support widgets.\n",
       "</p>\n"
      ],
      "text/plain": [
       "HBox(children=(IntProgress(value=0, max=5), HTML(value='')))"
      ]
     },
     "metadata": {},
     "output_type": "display_data"
    },
    {
     "name": "stderr",
     "output_type": "stream",
     "text": [
      "/home/zhu/anaconda3/lib/python3.6/site-packages/numpy/lib/function_base.py:1110: RuntimeWarning: Mean of empty slice.\n",
      "  avg = a.mean(axis)\n",
      "/home/zhu/anaconda3/lib/python3.6/site-packages/numpy/core/_methods.py:73: RuntimeWarning: invalid value encountered in true_divide\n",
      "  ret, rcount, out=ret, casting='unsafe', subok=False)\n",
      "/home/zhu/anaconda3/lib/python3.6/site-packages/numpy/lib/function_base.py:3159: RuntimeWarning: Degrees of freedom <= 0 for slice\n",
      "  c = cov(x, y, rowvar)\n",
      "/home/zhu/anaconda3/lib/python3.6/site-packages/numpy/lib/function_base.py:3093: RuntimeWarning: divide by zero encountered in double_scalars\n",
      "  c *= 1. / np.float64(fact)\n",
      "/home/zhu/anaconda3/lib/python3.6/site-packages/numpy/lib/function_base.py:3093: RuntimeWarning: invalid value encountered in multiply\n",
      "  c *= 1. / np.float64(fact)\n",
      "/home/zhu/anaconda3/lib/python3.6/site-packages/numpy/lib/function_base.py:3167: RuntimeWarning: invalid value encountered in true_divide\n",
      "  c /= stddev[:, None]\n",
      "/home/zhu/anaconda3/lib/python3.6/site-packages/numpy/lib/function_base.py:3168: RuntimeWarning: invalid value encountered in true_divide\n",
      "  c /= stddev[None, :]\n"
     ]
    },
    {
     "name": "stdout",
     "output_type": "stream",
     "text": [
      "\n",
      "           收缩压       舒张压    血清甘油三酯  血清高密度脂蛋白  血清低密度脂蛋白\n",
      "0     4.894293  4.416623  0.903307  0.907488  1.361741\n",
      "1     4.819389  4.259623  0.741996  0.948498  1.402226\n",
      "2     4.853039  4.432735  1.400970  0.820149  1.328993\n",
      "3     4.854724  4.363793  0.990574  0.970505  1.140764\n",
      "4     4.954130  4.363240  1.148541  0.938735  1.528076\n",
      "5     4.880487  4.360287  0.900654  0.977576  1.400404\n",
      "6     4.848738  4.329467  0.706969  0.959966  1.083818\n",
      "7     4.925280  4.480758  1.297094  0.799793  1.227767\n",
      "8     4.862428  4.414697  1.128017  0.925891  1.180996\n",
      "9     4.832503  4.390817  0.920273  0.817536  1.353452\n",
      "10    4.980227  4.490771  1.077023  0.883018  1.408843\n",
      "11    4.864045  4.415248  2.171673  0.927813  1.375255\n",
      "12    4.863795  4.344909  0.786722  0.921636  1.431399\n",
      "13    4.931163  4.359260  0.885274  0.789415  1.408057\n",
      "14    4.797137  4.283696  0.703125  0.931822  1.344567\n",
      "15    4.882504  4.336369  1.005827  0.847260  1.347418\n",
      "16    4.805615  4.282910  0.720628  0.833993  1.002671\n",
      "17    4.831033  4.375463  1.225790  0.945143  1.646620\n",
      "18    4.804653  4.312727  0.706352  0.967041  1.175306\n",
      "19    4.810980  4.334280  0.886179  0.778735  1.384748\n",
      "20    4.664001  4.185270  0.566530  0.979529  1.184609\n",
      "21    4.848370  4.375483  0.686376  0.857769  1.152526\n",
      "22    4.781471  4.307748  0.734315  0.795318  1.135916\n",
      "23    4.805582  4.267023  0.781566  0.956474  1.148543\n",
      "24    4.846030  4.387156  0.984597  0.888981  1.388605\n",
      "25    4.823600  4.362134  0.953991  0.801727  1.421334\n",
      "26    5.014549  4.517755  0.955651  0.875918  1.469196\n",
      "27    4.976383  4.465551  0.804316  0.797709  1.305465\n",
      "28    4.696952  4.167670  0.504881  0.949810  1.096823\n",
      "29    4.773968  4.272910  0.744608  1.049232  1.281247\n",
      "...        ...       ...       ...       ...       ...\n",
      "9502  4.827175  4.350609  0.790423  0.870469  1.380882\n",
      "9503  4.725245  4.226970  0.863184  1.002870  1.302783\n",
      "9504  4.948602  4.454967  0.567687  1.035460  1.212654\n",
      "9505  4.829882  4.244605  0.771497  0.860181  1.149279\n",
      "9506  4.755264  4.238690  0.537687  0.857203  1.193577\n",
      "9507  4.899243  4.459254  1.497727  0.798301  1.518521\n",
      "9508  4.818260  4.316433  0.836110  0.876335  1.397431\n",
      "9509  4.730721  4.318465  0.561574  0.955383  1.054362\n",
      "9510  4.827601  4.362981  0.918879  0.857044  1.309605\n",
      "9511  4.773418  4.256015  0.610302  0.956680  1.174315\n",
      "9512  4.744463  4.288209  0.677797  0.771382  1.294747\n",
      "9513  4.875893  4.403091  1.082005  0.823779  1.406760\n",
      "9514  4.719740  4.219100  0.696671  0.847022  1.544393\n",
      "9515  4.719993  4.228594  0.674811  0.961226  1.132512\n",
      "9516  5.023998  4.451096  0.817164  0.796302  1.297002\n",
      "9517  4.883951  4.384498  0.787094  0.899155  1.243066\n",
      "9518  5.059101  4.553663  1.290409  0.668110  1.471896\n",
      "9519  4.879321  4.349504  1.647596  0.822657  1.469714\n",
      "9520  4.750808  4.257235  0.535535  1.138850  1.319251\n",
      "9521  4.762119  4.205752  0.647571  0.919989  1.161772\n",
      "9522  4.863212  4.424156  1.207426  0.793782  1.276413\n",
      "9523  4.796602  4.325388  0.848001  0.889260  1.471566\n",
      "9524  4.789494  4.232121  0.756396  0.871238  1.193535\n",
      "9525  4.773775  4.263374  0.683443  0.951034  1.306111\n",
      "9526  4.753373  4.282391  0.525119  1.028127  0.942271\n",
      "9527  4.941105  4.404816  0.928651  0.767980  1.337890\n",
      "9528  4.817149  4.396253  0.790921  0.851094  1.431893\n",
      "9529  4.878215  4.425135  1.017798  0.783130  1.426316\n",
      "9530  4.826703  4.400243  1.049380  0.860934  1.288226\n",
      "9531  4.929761  4.487535  1.169128  0.987465  1.520927\n",
      "\n",
      "[9532 rows x 5 columns]\n"
     ]
    }
   ],
   "source": [
    "# submit\n",
    "lgb_tree = [1200,1000,1700,2600,2000]\n",
    "xgb_tree = [2200,2500,3400,5000,4200]\n",
    "alpha = [0.01,0.01,0.01,0.01,0.01]\n",
    "submit_df = pd.DataFrame()\n",
    "for i in tqdm(range(5)):\n",
    "#     X = physical_data.loc[data_set[i][0],:].values\n",
    "#     y = np.array(data_set[i][1])\n",
    "    # 计算相关性\n",
    "    X = physical_data.loc[data_set[i][0],:]\n",
    "    y = pd.Series(data_set[i][1],index=X.index)\n",
    "    relation = []\n",
    "    drop_name = []\n",
    "    for item in X.columns:\n",
    "        dest_column = X.loc[:,item]\n",
    "        valid_index = dest_column[dest_column.isnull().values==False].index\n",
    "        p = np.corrcoef(dest_column[valid_index],y[valid_index])[0,1]\n",
    "        if str(p)=='nan':\n",
    "            drop_name.append(item)\n",
    "            continue\n",
    "        relation.append(p)\n",
    "        if abs(p)<0.001:\n",
    "            drop_name.append(item)\n",
    "    new_name = []\n",
    "    for name in X.columns:\n",
    "        if name not in drop_name:\n",
    "            new_name.append(name)\n",
    "    X = X.loc[:,new_name].values\n",
    "    test_array = physical_data.loc[test['vid'],new_name].values\n",
    "    result = cal_loss_2(X,y,lgb_tree[i],xgb_tree[i],alpha[i],test_array)\n",
    "    submit_df[colume_name[i]] = result\n",
    "print(submit_df)\n",
    "\n",
    "# 计算结果反变换\n",
    "for i in range(5):\n",
    "    submit_df[colume_name[i]] = submit_df[colume_name[i]].apply(lambda x:np.exp(x)-1)"
   ]
  },
  {
   "cell_type": "markdown",
   "metadata": {},
   "source": [
    "# 8保存结果"
   ]
  },
  {
   "cell_type": "code",
   "execution_count": 14,
   "metadata": {},
   "outputs": [],
   "source": [
    "import datetime\n",
    "nowTime=datetime.datetime.now().strftime('_%Y%m%d_%H%M%S')\n",
    "submit_name = '../submit/submit'+nowTime+'.csv'\n",
    "submit_df.index = test['vid']\n",
    "submit_df.to_csv(submit_name,header=None)"
   ]
  },
  {
   "cell_type": "markdown",
   "metadata": {},
   "source": []
  }
 ],
 "metadata": {
  "kernelspec": {
   "display_name": "Python 3",
   "language": "python",
   "name": "python3"
  },
  "language_info": {
   "codemirror_mode": {
    "name": "ipython",
    "version": 3
   },
   "file_extension": ".py",
   "mimetype": "text/x-python",
   "name": "python",
   "nbconvert_exporter": "python",
   "pygments_lexer": "ipython3",
   "version": "3.6.2"
  }
 },
 "nbformat": 4,
 "nbformat_minor": 2
}
